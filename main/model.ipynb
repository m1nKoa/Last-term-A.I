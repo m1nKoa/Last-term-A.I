import pandas as pd
import numpy as np
from sklearn.model_selection import train_test_split
from sklearn.preprocessing import StandardScaler, LabelEncoder
from tensorflow.keras.models import Sequential
from tensorflow.keras.layers import Dense
from tensorflow.keras.utils import to_categorical
import joblib
data = pd.read_csv('/content/thoitrang.csv')
print(data.columns)
data.dropna(inplace=True) 

def classify_clothing(row):
    scores = {}
    gender = 'Nam' if row['Gender'] == 1 else 'Nữ'
    clothing_options = {
        'Nam': {
            'Áo sơ mi': 2 if row['ChestWidth'] < 100 else 1,
            'Quần jeans': 3 if 80 <= row['Waist'] < 90 else 1,
            'Blazer': 2 if row['ShoulderWidth'] > 45 else 1,
            'Quần kaki': 2 if row['Waist'] < 80 else 1,
            'Áo vest ngắn tay': 3 if row['ShoulderWidth'] < 50 else 0  
        },
        'Nữ': {
            'Váy mini': 3 if row['Waist'] < 70 else 1,
            'Đầm suông': 2 if row['TotalHeight'] < 160 else 1,
            'Áo blouse lụa': 2 if row['ChestWidth'] < 85 else 1,
            'Đầm maxi': 3 if row['TotalHeight'] > 170 else 1,
            'Đầm dạ hội': 4 if row['Waist'] < 65 and row['TotalHeight'] > 165 else 0 
        },
        'Unisex': {
            'Quần short': 2 if row['Waist'] < 75 else 1,
            'Hoodie': 3 if row['TotalHeight'] > 170 else 1,
            'Quần jogger': 2 if 75 <= row['Waist'] < 85 else 1,
            'Áo thun dài tay': 2 if row['TotalHeight'] < 165 else 1
        }
    }

    scores.update(clothing_options['Unisex'])
    scores.update(clothing_options[gender])

    if row['Waist'] > 85 and row['Hips'] > 100:
        scores['Quần suông'] = scores.get('Quần suông', 0) + 3
        scores['Quần dài ống suông'] = scores.get('Quần dài ống suông', 0) + 2

    if row['ChestWidth'] > 90 and gender == 'Nữ': 
        scores['Áo len'] = scores.get('Áo len', 0) + 2

    if row['TotalHeight'] < 160:
        scores['Đầm xòe'] = scores.get('Đầm xòe', 0) + 2 
        scores['Váy ngắn rộng'] = scores.get('Váy ngắn rộng', 0) + 2

    if row['ShoulderWidth'] > 50 and gender == 'Nam':
        scores['Áo tank top'] = scores.get('Áo tank top', 0) + 2


    if row['TotalHeight'] > 175 and row['Waist'] < 70 and gender == 'Nữ':
        scores['Đầm dạ hội'] = scores.get('Đầm dạ hội', 0) + 4

    sorted_items = sorted(scores.items(), key=lambda item: item[1], reverse=True)
    top_clothing = [item[0] for item in sorted_items[:3]]

    return top_clothing

data['RecommendedClothing'] = data.apply(lambda row: classify_clothing(row)[0], axis=1)


features = data[['Gender', 'ShoulderWidth', 'ChestWidth', 'Waist', 'Hips', 'TotalHeight']]
label_encoder = LabelEncoder()
encoded_labels = label_encoder.fit_transform(data['RecommendedClothing'].explode())  
encoded_labels = to_categorical(encoded_labels)

X_train, X_test, y_train, y_test = train_test_split(features, encoded_labels, test_size=0.2, random_state=42)

scaler = StandardScaler()
X_train_scaled = scaler.fit_transform(X_train)
X_test_scaled = scaler.transform(X_test)

model = Sequential([
    Dense(128, activation='relu', input_shape=(X_train_scaled.shape[1],)),
    Dense(64, activation='relu'),
    Dense(encoded_labels.shape[1], activation='softmax')
])
model.compile(optimizer='adam', loss='categorical_crossentropy', metrics=['accuracy'])

history = model.fit(X_train_scaled, y_train, epochs=50, validation_split=0.2)

model.save('fashion_model.h5')
joblib.dump(scaler, 'scaler.pkl')
joblib.dump(label_encoder, 'label_encoder.pkl')
